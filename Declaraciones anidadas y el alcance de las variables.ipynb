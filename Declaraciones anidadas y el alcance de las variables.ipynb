{
 "cells": [
  {
   "cell_type": "markdown",
   "metadata": {},
   "source": [
    "# Declaraciones anidadas y alcance de las variables"
   ]
  },
  {
   "cell_type": "code",
   "execution_count": 1,
   "metadata": {},
   "outputs": [
    {
     "name": "stdout",
     "output_type": "stream",
     "text": [
      "50\n",
      "25\n"
     ]
    }
   ],
   "source": [
    "x = 25\n",
    "\n",
    "def imprimir():\n",
    "    x = 50\n",
    "    return x\n",
    "\n",
    "# Que valor tendra la funcion imprimir?\n",
    "print(imprimir())\n",
    "# Que valor tendra x?\n",
    "print(x)"
   ]
  },
  {
   "cell_type": "code",
   "execution_count": 2,
   "metadata": {
    "collapsed": true
   },
   "outputs": [],
   "source": [
    "# Variables locales\n",
    "f = lambda x: x**2"
   ]
  },
  {
   "cell_type": "code",
   "execution_count": 4,
   "metadata": {},
   "outputs": [
    {
     "name": "stdout",
     "output_type": "stream",
     "text": [
      "Hola Sam\n",
      "Esta es global\n"
     ]
    }
   ],
   "source": [
    "# Varibles locales incluidas en funciones\n",
    "\n",
    "nombre = \"Esta es global\"\n",
    "\n",
    "def saludar():\n",
    "    #Funcion incluyente\n",
    "    nombre = \"Sam\"\n",
    "    \n",
    "    def hola():\n",
    "        print(\"Hola \" + nombre)\n",
    "    hola()\n",
    "saludar()\n",
    "\n",
    "# Nombre global\n",
    "print(nombre)"
   ]
  },
  {
   "cell_type": "code",
   "execution_count": 5,
   "metadata": {},
   "outputs": [
    {
     "name": "stdout",
     "output_type": "stream",
     "text": [
      "x es  50\n",
      "Cambio la x local a  2\n",
      "x es aun  50\n"
     ]
    }
   ],
   "source": [
    "# Variables locales\n",
    "\n",
    "x = 50\n",
    "\n",
    "def func(x):\n",
    "    print('x es ', x)\n",
    "    x = 2\n",
    "    print(\"Cambio la x local a \", x)\n",
    "    \n",
    "func(x)\n",
    "print('x es aun ', x)"
   ]
  },
  {
   "cell_type": "code",
   "execution_count": 6,
   "metadata": {},
   "outputs": [
    {
     "name": "stdout",
     "output_type": "stream",
     "text": [
      "Antes de llamar la funcion, x es:  50\n",
      "Esta funcion esta usando el valor global de x.\n",
      "El valor global de x es:  50\n",
      "Corremos la funcion, el valor global cambio a  2\n",
      "El valor de x (fuera de func()) es:  2\n"
     ]
    }
   ],
   "source": [
    "# Variables globales\n",
    "\n",
    "x = 50\n",
    "\n",
    "def func():\n",
    "    global x\n",
    "    print(\"Esta funcion esta usando el valor global de x.\")\n",
    "    print(\"El valor global de x es: \",x)\n",
    "    x = 2\n",
    "    print(\"Corremos la funcion, el valor global cambio a \", x)\n",
    "    \n",
    "print(\"Antes de llamar la funcion, x es: \", x)\n",
    "func()\n",
    "print(\"El valor de x (fuera de func()) es: \", x)"
   ]
  },
  {
   "cell_type": "code",
   "execution_count": null,
   "metadata": {
    "collapsed": true
   },
   "outputs": [],
   "source": []
  }
 ],
 "metadata": {
  "kernelspec": {
   "display_name": "Python 3",
   "language": "python",
   "name": "python3"
  },
  "language_info": {
   "codemirror_mode": {
    "name": "ipython",
    "version": 3
   },
   "file_extension": ".py",
   "mimetype": "text/x-python",
   "name": "python",
   "nbconvert_exporter": "python",
   "pygments_lexer": "ipython3",
   "version": "3.6.1"
  }
 },
 "nbformat": 4,
 "nbformat_minor": 2
}
