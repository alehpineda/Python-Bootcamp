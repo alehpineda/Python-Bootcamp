{
 "cells": [
  {
   "cell_type": "markdown",
   "metadata": {},
   "source": [
    "# Proyecto 1\n",
    "\n",
    "## Juego del Gato"
   ]
  },
  {
   "cell_type": "code",
   "execution_count": 117,
   "metadata": {},
   "outputs": [
    {
     "name": "stdout",
     "output_type": "stream",
     "text": [
      "\n",
      " | 1 | 2 | 3 \n",
      " ____________ \n",
      " | 4 | 5 | 6 \n",
      " ____________ \n",
      " | 7 | 8 | 9\n"
     ]
    }
   ],
   "source": [
    "from IPython.display import clear_output\n",
    "board = [\"1\",\"2\",\"3\",\"4\",\"5\",\"6\",\"7\",\"8\",\"9\"]\n",
    "def display_board(board):\n",
    "    print('\\n', \"|\", board[0], \"|\", board[1], \"|\", board[2], '\\n',\n",
    "                '____________', '\\n',\n",
    "                \"|\", board[3], \"|\", board[4], \"|\", board[5], '\\n',\n",
    "                '____________', '\\n',          \n",
    "                \"|\", board[6], \"|\", board[7], \"|\", board[8])\n",
    "\n",
    "display_board(board)"
   ]
  },
  {
   "cell_type": "code",
   "execution_count": 143,
   "metadata": {},
   "outputs": [
    {
     "name": "stdout",
     "output_type": "stream",
     "text": [
      "Quieres ser X o O?: x\n"
     ]
    },
    {
     "data": {
      "text/plain": [
       "['X', 'O']"
      ]
     },
     "execution_count": 143,
     "metadata": {},
     "output_type": "execute_result"
    }
   ],
   "source": [
    "def player_input():\n",
    "    player = \"\"\n",
    "    while not (player == \"X\" or player == \"O\"):\n",
    "        player = input(\"Quieres ser X o O?: \")\n",
    "        player = player.upper()\n",
    "    if player == \"X\":\n",
    "        return [\"X\", \"O\"]\n",
    "    else:\n",
    "        return [\"O\", \"X\"]\n",
    "\n",
    "player_input()"
   ]
  },
  {
   "cell_type": "code",
   "execution_count": 118,
   "metadata": {},
   "outputs": [
    {
     "name": "stdout",
     "output_type": "stream",
     "text": [
      "\n",
      " | 1 | 2 | 3 \n",
      " ____________ \n",
      " | 4 | 5 | 6 \n",
      " ____________ \n",
      " | 7 | 8 | X\n"
     ]
    }
   ],
   "source": [
    "def place_marker(board, marker, position):\n",
    "    if 0 < position and position <= len(board):\n",
    "        board.insert(position, marker)\n",
    "        board.remove(str(position))\n",
    "    else:\n",
    "        print(\"Escribe un numero del 1 al 9.\")\n",
    "\n",
    "place_marker(board, \"X\", 9)\n",
    "display_board(board)"
   ]
  },
  {
   "cell_type": "code",
   "execution_count": 79,
   "metadata": {},
   "outputs": [
    {
     "name": "stdout",
     "output_type": "stream",
     "text": [
      "Aun no\n"
     ]
    }
   ],
   "source": [
    "def win_check(board,mark):\n",
    "    if board[0] == mark and board[1] == mark and board[2] == mark:\n",
    "        print(\"Ganaste\")\n",
    "    elif board[3] == mark and board[4] == mark and board[5] == mark:\n",
    "        print(\"Ganaste\")\n",
    "    elif board[6] == mark and board[7] == mark and board[8] == mark:\n",
    "        print(\"Ganaste\")\n",
    "    elif board[0] == mark and board[3] == mark and board[6] == mark:\n",
    "        print(\"Ganaste\")\n",
    "    elif board[1] == mark and board[4] == mark and board[7] == mark:\n",
    "        print(\"Ganaste\")\n",
    "    elif board[2] == mark and board[5] == mark and board[8] == mark:\n",
    "        print(\"Ganaste\")\n",
    "    elif board[0] == mark and board[4] == mark and board[8] == mark:\n",
    "        print(\"Ganaste\")        \n",
    "    elif board[2] == mark and board[4] == mark and board[6] == mark:\n",
    "        print(\"Ganaste\")\n",
    "    else:\n",
    "        print(\"Aun no\")\n",
    "\n",
    "win_check(board, \"X\")"
   ]
  },
  {
   "cell_type": "code",
   "execution_count": 80,
   "metadata": {},
   "outputs": [
    {
     "data": {
      "text/plain": [
       "'Jugador 2 va primero'"
      ]
     },
     "execution_count": 80,
     "metadata": {},
     "output_type": "execute_result"
    }
   ],
   "source": [
    "import random\n",
    "def choose_first():\n",
    "    if random.randint(0,1) == 0:\n",
    "        return \"Jugador 2 va primero\"\n",
    "    else:\n",
    "        return \"Jugador 1 va primero\"\n",
    "\n",
    "choose_first()"
   ]
  },
  {
   "cell_type": "code",
   "execution_count": 127,
   "metadata": {},
   "outputs": [
    {
     "data": {
      "text/plain": [
       "True"
      ]
     },
     "execution_count": 127,
     "metadata": {},
     "output_type": "execute_result"
    }
   ],
   "source": [
    "def space_check(board, position):\n",
    "    position-=1\n",
    "    if 0 <= position and position < len(board):    \n",
    "        if board[position] == \"X\" or board[position] == \"O\":\n",
    "            return False\n",
    "    return True\n",
    "\n",
    "space_check(board, 4)"
   ]
  },
  {
   "cell_type": "code",
   "execution_count": 135,
   "metadata": {},
   "outputs": [
    {
     "data": {
      "text/plain": [
       "False"
      ]
     },
     "execution_count": 135,
     "metadata": {},
     "output_type": "execute_result"
    }
   ],
   "source": [
    "def full_board_check(board):\n",
    "    for e in range(1, len(board)+1):\n",
    "        if space_check(board, e):\n",
    "            return False\n",
    "    return True\n",
    "\n",
    "full_board_check(board)"
   ]
  },
  {
   "cell_type": "code",
   "execution_count": 139,
   "metadata": {},
   "outputs": [
    {
     "name": "stdout",
     "output_type": "stream",
     "text": [
      "Escribe la posicion que quieres jugar: 9\n",
      "Escribe la posicion que quieres jugar: 8\n"
     ]
    },
    {
     "data": {
      "text/plain": [
       "8"
      ]
     },
     "execution_count": 139,
     "metadata": {},
     "output_type": "execute_result"
    }
   ],
   "source": [
    "def player_choice(board):\n",
    "    position = \"\"\n",
    "    while position not in '1 2 3 4 5 6 7 8 9'.split() or not space_check(board, int(position)):\n",
    "        position = input(\"Escribe la posicion que quieres jugar: \")\n",
    "    return int(position)\n",
    "\n",
    "player_choice(board)\n",
    "    "
   ]
  },
  {
   "cell_type": "code",
   "execution_count": 142,
   "metadata": {},
   "outputs": [
    {
     "name": "stdout",
     "output_type": "stream",
     "text": [
      "Quieres volver a jugar. (Si o No): No\n"
     ]
    },
    {
     "data": {
      "text/plain": [
       "False"
      ]
     },
     "execution_count": 142,
     "metadata": {},
     "output_type": "execute_result"
    }
   ],
   "source": [
    "def replay():\n",
    "    replay = \"\"\n",
    "    while replay.lower() not in [\"si\", \"no\"]:\n",
    "        replay = input(\"Quieres volver a jugar. (Si o No): \")\n",
    "    if replay.lower() == \"si\":\n",
    "        return True\n",
    "    else:\n",
    "        return False\n",
    "\n",
    "replay()"
   ]
  },
  {
   "cell_type": "code",
   "execution_count": null,
   "metadata": {
    "collapsed": true
   },
   "outputs": [],
   "source": [
    "print('Welcome to Tic Tac Toe!')\n",
    "\n",
    "#while True:\n",
    "    # Set the game up here\n",
    "    #pass\n",
    "\n",
    "    #while game_on:\n",
    "        #Player 1 Turn\n",
    "        \n",
    "        \n",
    "        # Player2's turn.\n",
    "            \n",
    "            #pass\n",
    "\n",
    "    #if not replay():\n",
    "        #break"
   ]
  }
 ],
 "metadata": {
  "kernelspec": {
   "display_name": "Python 3",
   "language": "python",
   "name": "python3"
  },
  "language_info": {
   "codemirror_mode": {
    "name": "ipython",
    "version": 3
   },
   "file_extension": ".py",
   "mimetype": "text/x-python",
   "name": "python",
   "nbconvert_exporter": "python",
   "pygments_lexer": "ipython3",
   "version": "3.6.1"
  }
 },
 "nbformat": 4,
 "nbformat_minor": 2
}
