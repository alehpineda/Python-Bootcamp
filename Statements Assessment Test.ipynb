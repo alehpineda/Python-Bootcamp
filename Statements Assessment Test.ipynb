{
 "cells": [
  {
   "cell_type": "markdown",
   "metadata": {
    "collapsed": true
   },
   "source": [
    "# Statements Assessment Test\n",
    "Lets test your knowledge!"
   ]
  },
  {
   "cell_type": "markdown",
   "metadata": {},
   "source": [
    "_____\n",
    "**Use for, split(), and if to create a Statement that will print out words that start with 's':**"
   ]
  },
  {
   "cell_type": "code",
   "execution_count": 3,
   "metadata": {
    "collapsed": true
   },
   "outputs": [],
   "source": [
    "st = 'Print only the words that start with s in this sentence'"
   ]
  },
  {
   "cell_type": "code",
   "execution_count": 4,
   "metadata": {},
   "outputs": [
    {
     "name": "stdout",
     "output_type": "stream",
     "text": [
      "start\n",
      "s\n",
      "sentence\n"
     ]
    }
   ],
   "source": [
    "#Code here\n",
    "for e in st.split(\" \"):\n",
    "    if e[0]==\"s\":\n",
    "        print(e)"
   ]
  },
  {
   "cell_type": "markdown",
   "metadata": {},
   "source": [
    "______\n",
    "**Use range() to print all the even numbers from 0 to 10.**"
   ]
  },
  {
   "cell_type": "code",
   "execution_count": 27,
   "metadata": {},
   "outputs": [
    {
     "name": "stdout",
     "output_type": "stream",
     "text": [
      "0\n",
      "2\n",
      "4\n",
      "6\n",
      "8\n",
      "10\n"
     ]
    },
    {
     "data": {
      "text/plain": [
       "[0, 2, 4, 6, 8, 10]"
      ]
     },
     "execution_count": 27,
     "metadata": {},
     "output_type": "execute_result"
    }
   ],
   "source": [
    "#Code Here\n",
    "for e in range(11):\n",
    "    if e%2==0:\n",
    "        print(e)\n",
    "\n",
    "list(range(0,11,2))"
   ]
  },
  {
   "cell_type": "markdown",
   "metadata": {},
   "source": [
    "___\n",
    "**Use List comprehension to create a list of all numbers between 1 and 50 that are divisible by 3.**"
   ]
  },
  {
   "cell_type": "code",
   "execution_count": 28,
   "metadata": {},
   "outputs": [
    {
     "data": {
      "text/plain": [
       "[3, 6, 9, 12, 15, 18, 21, 24, 27, 30, 33, 36, 39, 42, 45, 48]"
      ]
     },
     "execution_count": 28,
     "metadata": {},
     "output_type": "execute_result"
    }
   ],
   "source": [
    "#Code in this cell\n",
    "[x for x in range(1,50) if x%3==0]"
   ]
  },
  {
   "cell_type": "markdown",
   "metadata": {},
   "source": [
    "_____\n",
    "**Go through the string below and if the length of a word is even print \"even!\"**"
   ]
  },
  {
   "cell_type": "code",
   "execution_count": 14,
   "metadata": {
    "collapsed": true
   },
   "outputs": [],
   "source": [
    "st = 'Print every word in this sentence that has an even number of letters'"
   ]
  },
  {
   "cell_type": "code",
   "execution_count": 16,
   "metadata": {},
   "outputs": [
    {
     "name": "stdout",
     "output_type": "stream",
     "text": [
      "word is even!\n",
      "in is even!\n",
      "this is even!\n",
      "sentence is even!\n",
      "that is even!\n",
      "an is even!\n",
      "even is even!\n",
      "number is even!\n",
      "of is even!\n"
     ]
    }
   ],
   "source": [
    "#Code in this cell\n",
    "for e in st.split(\" \"):\n",
    "    if len(e)%2==0:\n",
    "        print(e+\" is even!\")"
   ]
  },
  {
   "cell_type": "markdown",
   "metadata": {},
   "source": [
    "____\n",
    "**Write a program that prints the integers from 1 to 100. But for multiples of three print \"Fizz\" instead of the number, and for the multiples of five print \"Buzz\". For numbers which are multiples of both three and five print \"FizzBuzz\".**"
   ]
  },
  {
   "cell_type": "code",
   "execution_count": 32,
   "metadata": {},
   "outputs": [
    {
     "name": "stdout",
     "output_type": "stream",
     "text": [
      "1\n",
      "2\n",
      "3 is Buzz\n",
      "4\n",
      "5 is FizzBuzz\n",
      "6 is Buzz\n",
      "7\n",
      "8\n",
      "9 is Buzz\n",
      "10 is FizzBuzz\n",
      "11\n",
      "12 is Buzz\n",
      "13\n",
      "14\n",
      "15 is FizzBuzz\n",
      "16\n",
      "17\n",
      "18 is Buzz\n",
      "19\n",
      "20 is FizzBuzz\n",
      "21 is Buzz\n",
      "22\n",
      "23\n",
      "24 is Buzz\n",
      "25 is FizzBuzz\n",
      "26\n",
      "27 is Buzz\n",
      "28\n",
      "29\n",
      "30 is FizzBuzz\n",
      "31\n",
      "32\n",
      "33 is Buzz\n",
      "34\n",
      "35 is FizzBuzz\n",
      "36 is Buzz\n",
      "37\n",
      "38\n",
      "39 is Buzz\n",
      "40 is FizzBuzz\n",
      "41\n",
      "42 is Buzz\n",
      "43\n",
      "44\n",
      "45 is FizzBuzz\n",
      "46\n",
      "47\n",
      "48 is Buzz\n",
      "49\n",
      "50 is FizzBuzz\n",
      "51 is Buzz\n",
      "52\n",
      "53\n",
      "54 is Buzz\n",
      "55 is FizzBuzz\n",
      "56\n",
      "57 is Buzz\n",
      "58\n",
      "59\n",
      "60 is FizzBuzz\n",
      "61\n",
      "62\n",
      "63 is Buzz\n",
      "64\n",
      "65 is FizzBuzz\n",
      "66 is Buzz\n",
      "67\n",
      "68\n",
      "69 is Buzz\n",
      "70 is FizzBuzz\n",
      "71\n",
      "72 is Buzz\n",
      "73\n",
      "74\n",
      "75 is FizzBuzz\n",
      "76\n",
      "77\n",
      "78 is Buzz\n",
      "79\n",
      "80 is FizzBuzz\n",
      "81 is Buzz\n",
      "82\n",
      "83\n",
      "84 is Buzz\n",
      "85 is FizzBuzz\n",
      "86\n",
      "87 is Buzz\n",
      "88\n",
      "89\n",
      "90 is FizzBuzz\n",
      "91\n",
      "92\n",
      "93 is Buzz\n",
      "94\n",
      "95 is FizzBuzz\n",
      "96 is Buzz\n",
      "97\n",
      "98\n",
      "99 is Buzz\n",
      "100 is FizzBuzz\n"
     ]
    }
   ],
   "source": [
    "#Code in this cell\n",
    "for e in range(1,101):\n",
    "    if e%3==0 and e%5==0:\n",
    "        print(str(e)+\" is FizzBuzz\")\n",
    "    elif e%3==0:\n",
    "        print(str(e)+\" is Buzz\")\n",
    "    elif e%5==0:\n",
    "        print(str(e)+\" is FizzBuzz\")\n",
    "    else:\n",
    "        print(e)"
   ]
  },
  {
   "cell_type": "markdown",
   "metadata": {},
   "source": [
    "____\n",
    "**Use List Comprehension to create a list of the first letters of every word in the string below:**"
   ]
  },
  {
   "cell_type": "code",
   "execution_count": 22,
   "metadata": {
    "collapsed": true
   },
   "outputs": [],
   "source": [
    "st = 'Create a list of the first letters of every word in this string'"
   ]
  },
  {
   "cell_type": "code",
   "execution_count": 24,
   "metadata": {},
   "outputs": [
    {
     "data": {
      "text/plain": [
       "['C', 'a', 'l', 'o', 't', 'f', 'l', 'o', 'e', 'w', 'i', 't', 's']"
      ]
     },
     "execution_count": 24,
     "metadata": {},
     "output_type": "execute_result"
    }
   ],
   "source": [
    "#Code in this cell [x for x in range(51) if x%3==0]\n",
    "[x[0] for x in st.split(\" \")]\n",
    "    "
   ]
  },
  {
   "cell_type": "markdown",
   "metadata": {},
   "source": [
    "### Great Job!"
   ]
  }
 ],
 "metadata": {
  "kernelspec": {
   "display_name": "Python 3",
   "language": "python",
   "name": "python3"
  },
  "language_info": {
   "codemirror_mode": {
    "name": "ipython",
    "version": 3
   },
   "file_extension": ".py",
   "mimetype": "text/x-python",
   "name": "python",
   "nbconvert_exporter": "python",
   "pygments_lexer": "ipython3",
   "version": "3.6.1"
  }
 },
 "nbformat": 4,
 "nbformat_minor": 1
}
